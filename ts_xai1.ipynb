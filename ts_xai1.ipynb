{
  "nbformat": 4,
  "nbformat_minor": 0,
  "metadata": {
    "colab": {
      "name": "ts_xai1.ipynb",
      "provenance": [],
      "collapsed_sections": [],
      "authorship_tag": "ABX9TyNrYeGKK60m+IPJV6SvEWfG",
      "include_colab_link": true
    },
    "kernelspec": {
      "name": "python3",
      "display_name": "Python 3"
    },
    "language_info": {
      "name": "python"
    }
  },
  "cells": [
    {
      "cell_type": "markdown",
      "metadata": {
        "id": "view-in-github",
        "colab_type": "text"
      },
      "source": [
        "<a href=\"https://colab.research.google.com/github/hsuyab/high_performance_python/blob/main/ts_xai1.ipynb\" target=\"_parent\"><img src=\"https://colab.research.google.com/assets/colab-badge.svg\" alt=\"Open In Colab\"/></a>"
      ]
    },
    {
      "cell_type": "code",
      "source": [
        "!pip install lime"
      ],
      "metadata": {
        "colab": {
          "base_uri": "https://localhost:8080/"
        },
        "id": "wKqArceRJ7wZ",
        "outputId": "4d0d82ca-e1da-446d-fb12-54f4d1e6fc3e"
      },
      "execution_count": 11,
      "outputs": [
        {
          "output_type": "stream",
          "name": "stdout",
          "text": [
            "Looking in indexes: https://pypi.org/simple, https://us-python.pkg.dev/colab-wheels/public/simple/\n",
            "Collecting lime\n",
            "  Downloading lime-0.2.0.1.tar.gz (275 kB)\n",
            "\u001b[K     |████████████████████████████████| 275 kB 13.5 MB/s \n",
            "\u001b[?25hRequirement already satisfied: matplotlib in /usr/local/lib/python3.7/dist-packages (from lime) (3.2.2)\n",
            "Requirement already satisfied: numpy in /usr/local/lib/python3.7/dist-packages (from lime) (1.21.6)\n",
            "Requirement already satisfied: scipy in /usr/local/lib/python3.7/dist-packages (from lime) (1.4.1)\n",
            "Requirement already satisfied: tqdm in /usr/local/lib/python3.7/dist-packages (from lime) (4.64.0)\n",
            "Requirement already satisfied: scikit-learn>=0.18 in /usr/local/lib/python3.7/dist-packages (from lime) (1.0.2)\n",
            "Requirement already satisfied: scikit-image>=0.12 in /usr/local/lib/python3.7/dist-packages (from lime) (0.18.3)\n",
            "Requirement already satisfied: imageio>=2.3.0 in /usr/local/lib/python3.7/dist-packages (from scikit-image>=0.12->lime) (2.4.1)\n",
            "Requirement already satisfied: networkx>=2.0 in /usr/local/lib/python3.7/dist-packages (from scikit-image>=0.12->lime) (2.6.3)\n",
            "Requirement already satisfied: PyWavelets>=1.1.1 in /usr/local/lib/python3.7/dist-packages (from scikit-image>=0.12->lime) (1.3.0)\n",
            "Requirement already satisfied: pillow!=7.1.0,!=7.1.1,>=4.3.0 in /usr/local/lib/python3.7/dist-packages (from scikit-image>=0.12->lime) (7.1.2)\n",
            "Requirement already satisfied: tifffile>=2019.7.26 in /usr/local/lib/python3.7/dist-packages (from scikit-image>=0.12->lime) (2021.11.2)\n",
            "Requirement already satisfied: python-dateutil>=2.1 in /usr/local/lib/python3.7/dist-packages (from matplotlib->lime) (2.8.2)\n",
            "Requirement already satisfied: kiwisolver>=1.0.1 in /usr/local/lib/python3.7/dist-packages (from matplotlib->lime) (1.4.3)\n",
            "Requirement already satisfied: pyparsing!=2.0.4,!=2.1.2,!=2.1.6,>=2.0.1 in /usr/local/lib/python3.7/dist-packages (from matplotlib->lime) (3.0.9)\n",
            "Requirement already satisfied: cycler>=0.10 in /usr/local/lib/python3.7/dist-packages (from matplotlib->lime) (0.11.0)\n",
            "Requirement already satisfied: typing-extensions in /usr/local/lib/python3.7/dist-packages (from kiwisolver>=1.0.1->matplotlib->lime) (4.1.1)\n",
            "Requirement already satisfied: six>=1.5 in /usr/local/lib/python3.7/dist-packages (from python-dateutil>=2.1->matplotlib->lime) (1.15.0)\n",
            "Requirement already satisfied: joblib>=0.11 in /usr/local/lib/python3.7/dist-packages (from scikit-learn>=0.18->lime) (1.1.0)\n",
            "Requirement already satisfied: threadpoolctl>=2.0.0 in /usr/local/lib/python3.7/dist-packages (from scikit-learn>=0.18->lime) (3.1.0)\n",
            "Building wheels for collected packages: lime\n",
            "  Building wheel for lime (setup.py) ... \u001b[?25l\u001b[?25hdone\n",
            "  Created wheel for lime: filename=lime-0.2.0.1-py3-none-any.whl size=283857 sha256=7fcc4872f2434a3ac8cb55a407c17bf3c5dc3b8d987f2e29a7152ea0a17fc039\n",
            "  Stored in directory: /root/.cache/pip/wheels/ca/cb/e5/ac701e12d365a08917bf4c6171c0961bc880a8181359c66aa7\n",
            "Successfully built lime\n",
            "Installing collected packages: lime\n",
            "Successfully installed lime-0.2.0.1\n"
          ]
        }
      ]
    },
    {
      "cell_type": "code",
      "source": [
        "!pip install pyts"
      ],
      "metadata": {
        "colab": {
          "base_uri": "https://localhost:8080/"
        },
        "id": "rcieaJuNJB_B",
        "outputId": "e06c3419-7a40-491d-ae6a-9f2d95441d38"
      },
      "execution_count": 2,
      "outputs": [
        {
          "output_type": "stream",
          "name": "stdout",
          "text": [
            "Looking in indexes: https://pypi.org/simple, https://us-python.pkg.dev/colab-wheels/public/simple/\n",
            "Collecting pyts\n",
            "  Downloading pyts-0.12.0-py3-none-any.whl (2.5 MB)\n",
            "\u001b[K     |████████████████████████████████| 2.5 MB 14.7 MB/s \n",
            "\u001b[?25hRequirement already satisfied: numba>=0.48.0 in /usr/local/lib/python3.7/dist-packages (from pyts) (0.51.2)\n",
            "Requirement already satisfied: joblib>=0.12 in /usr/local/lib/python3.7/dist-packages (from pyts) (1.1.0)\n",
            "Requirement already satisfied: scikit-learn>=0.22.1 in /usr/local/lib/python3.7/dist-packages (from pyts) (1.0.2)\n",
            "Requirement already satisfied: numpy>=1.17.5 in /usr/local/lib/python3.7/dist-packages (from pyts) (1.21.6)\n",
            "Requirement already satisfied: scipy>=1.3.0 in /usr/local/lib/python3.7/dist-packages (from pyts) (1.4.1)\n",
            "Requirement already satisfied: setuptools in /usr/local/lib/python3.7/dist-packages (from numba>=0.48.0->pyts) (57.4.0)\n",
            "Requirement already satisfied: llvmlite<0.35,>=0.34.0.dev0 in /usr/local/lib/python3.7/dist-packages (from numba>=0.48.0->pyts) (0.34.0)\n",
            "Requirement already satisfied: threadpoolctl>=2.0.0 in /usr/local/lib/python3.7/dist-packages (from scikit-learn>=0.22.1->pyts) (3.1.0)\n",
            "Installing collected packages: pyts\n",
            "Successfully installed pyts-0.12.0\n"
          ]
        }
      ]
    },
    {
      "cell_type": "code",
      "source": [
        "import matplotlib.pyplot as plt\n",
        "import numpy as np\n",
        "from tqdm import tqdm\n",
        "import pandas as pd"
      ],
      "metadata": {
        "id": "10VtcINYJrDq"
      },
      "execution_count": 139,
      "outputs": []
    },
    {
      "cell_type": "code",
      "execution_count": 3,
      "metadata": {
        "id": "mVFhK6SkIu9S"
      },
      "outputs": [],
      "source": [
        "from pyts.classification import BOSSVS\n",
        "from pyts.datasets import load_gunpoint\n",
        "X_train, X_test, y_train, y_test = load_gunpoint(return_X_y=True)"
      ]
    },
    {
      "cell_type": "code",
      "source": [
        "# load_gunpoint?"
      ],
      "metadata": {
        "id": "6ZRTQNXQK6Do"
      },
      "execution_count": 18,
      "outputs": []
    },
    {
      "cell_type": "code",
      "source": [
        "print(f\"X_train shape: {X_train.shape}\")\n",
        "print(f\"X_test shape: {X_test.shape}\")\n",
        "print(f\"y_train shape: {y_train.shape}\")\n",
        "print(f\"y_test shape: {y_test.shape}\")"
      ],
      "metadata": {
        "colab": {
          "base_uri": "https://localhost:8080/"
        },
        "id": "QoZ1fvDJJOCX",
        "outputId": "22f95837-cadb-4e0c-e336-f04ffc560be2"
      },
      "execution_count": 5,
      "outputs": [
        {
          "output_type": "stream",
          "name": "stdout",
          "text": [
            "X_train shape: (50, 150)\n",
            "X_test shape: (150, 150)\n",
            "y_train shape: (50,)\n",
            "y_test shape: (150,)\n"
          ]
        }
      ]
    },
    {
      "cell_type": "code",
      "source": [
        "clf = BOSSVS(window_size=28)\n",
        "clf.fit(X_train, y_train)"
      ],
      "metadata": {
        "colab": {
          "base_uri": "https://localhost:8080/"
        },
        "id": "_FtNJCkVJAqj",
        "outputId": "5a4a4aa5-b848-4577-b031-c1fae7c6b17b"
      },
      "execution_count": 6,
      "outputs": [
        {
          "output_type": "execute_result",
          "data": {
            "text/plain": [
              "BOSSVS(window_size=28)"
            ]
          },
          "metadata": {},
          "execution_count": 6
        }
      ]
    },
    {
      "cell_type": "code",
      "source": [
        "# plt.plot(X_train[0])\n"
      ],
      "metadata": {
        "colab": {
          "base_uri": "https://localhost:8080/",
          "height": 283
        },
        "id": "0cRF-J_vJgMt",
        "outputId": "674ab89a-08a9-4035-b447-d9d9b2e16b51"
      },
      "execution_count": 10,
      "outputs": [
        {
          "output_type": "execute_result",
          "data": {
            "text/plain": [
              "[<matplotlib.lines.Line2D at 0x7f527952e850>]"
            ]
          },
          "metadata": {},
          "execution_count": 10
        },
        {
          "output_type": "display_data",
          "data": {
            "text/plain": [
              "<Figure size 432x288 with 1 Axes>"
            ],
            "image/png": "[encoded data removed]"
          },
          "metadata": {
            "needs_background": "light"
          }
        }
      ]
    },
    {
      "cell_type": "code",
      "source": [
        "from lime_timeseries import LimeTimeSeriesExplainer\n",
        "from lime import explanation\n",
        "from lime import lime_base"
      ],
      "metadata": {
        "id": "sc-IZkZiJosG"
      },
      "execution_count": 13,
      "outputs": []
    },
    {
      "cell_type": "code",
      "source": [
        ""
      ],
      "metadata": {
        "id": "wsZNs7ZpKYg6"
      },
      "execution_count": 51,
      "outputs": []
    },
    {
      "cell_type": "code",
      "source": [
        "def clf_predict(x=None, clf=clf):\n",
        "  print('inside clf_predict')\n",
        "  x = x.reshape(1,-1)\n",
        "  y = clf.predict(x)\n",
        "  return y"
      ],
      "metadata": {
        "id": "mTDxXg31LeQU"
      },
      "execution_count": 52,
      "outputs": []
    },
    {
      "cell_type": "code",
      "source": [
        "# explainer = LimeTimeSeriesExplainer(class_names=['gun', 'no-gun'])\n",
        "# exp = explainer.explain_instance(series, clf_predict, num_features=num_features, num_samples=5000, num_slices=num_slices, replacement_method='total_mean')\n",
        "# exp.as_pyplot_figure()"
      ],
      "metadata": {
        "id": "Qr4u0yK6KiyT"
      },
      "execution_count": 53,
      "outputs": []
    },
    {
      "cell_type": "code",
      "source": [
        "# x = np.mean(np.array([2]*10))\n",
        "# print(type(x))\n",
        "float(true_class[0])"
      ],
      "metadata": {
        "colab": {
          "base_uri": "https://localhost:8080/"
        },
        "id": "rxR1zezpWiEt",
        "outputId": "8f0d76f7-56af-44ec-92de-783e218df10a"
      },
      "execution_count": 106,
      "outputs": [
        {
          "output_type": "execute_result",
          "data": {
            "text/plain": [
              "2.0"
            ]
          },
          "metadata": {},
          "execution_count": 106
        }
      ]
    },
    {
      "cell_type": "code",
      "source": [
        "class_flips = []\n",
        "for ix in tqdm(range(len(X_test))):\n",
        "  idx = ix # explained instance\n",
        "  num_features = 10 # how many feature contained in explanation\n",
        "  num_slices = 10 # split time series\n",
        "  series = X_test[idx, :]\n",
        "  window = len(series)/num_slices\n",
        "  vseries = np.array([series]*num_slices)\n",
        "  true_class = float(clf.predict(series.reshape(1,-1))[0])\n",
        "  naive_mean = np.mean(series)\n",
        "  perturbed_class = []\n",
        "  \n",
        "  for k in range(num_slices):\n",
        "    #print(f'Start {k*window} to End {(k+1)*window}')\n",
        "    start = int(k*window)\n",
        "    end = int((k+1)*window)\n",
        "    # print(f\"Start {start} to End {end} has array length:{len(series[start:end])}\")\n",
        "    #naive mean for entire series\n",
        "    vseries[k,start:end] = naive_mean\n",
        "    class_ = clf.predict(vseries[k].reshape(1,-1))\n",
        "    \n",
        "    #check for class mismatch\n",
        "    if class_[0]!=true_class:\n",
        "      class_flips.append( [ix, naive_mean, start, end, int(true_class), class_[0]] ) \n",
        "    \n",
        "    \n",
        "  #   perturbed_class.append(class_[0])\n",
        "  # perturbed_class = np.array(perturbed_class)\n",
        "  # if np.mean(perturbed_class)!=true_class:\n",
        "  #   class_equal.append(False)\n",
        "  # else:\n",
        "  #   class_equal.append(True)\n",
        "# fig, ax = plt.subplots(num_slices+1,1, sharex=True)\n",
        "# fig.set_figheight(22)\n",
        "# fig.set_figwidth(8)\n",
        "# ax[0].plot(series, label=f'Original Series (class: {true_class})')\n",
        "# ax[0].legend(loc='upper right')\n",
        "# for i in range(num_slices):\n",
        "#   ax[i+1].plot(vseries[i], label=f\"Series perturbed at slice: {i+1} (cls: {perturbed_class[i]})\")\n",
        "#   ax[i+1].legend(loc='upper right')\n",
        "# plt.show()\n"
      ],
      "metadata": {
        "colab": {
          "base_uri": "https://localhost:8080/"
        },
        "id": "FrUdGU7sKlMs",
        "outputId": "576467cb-643f-4b7f-aa96-8703f75e4cbf"
      },
      "execution_count": 260,
      "outputs": [
        {
          "output_type": "stream",
          "name": "stderr",
          "text": [
            "100%|██████████| 150/150 [00:04<00:00, 33.47it/s]\n"
          ]
        }
      ]
    },
    {
      "cell_type": "code",
      "source": [
        "df_class = pd.DataFrame(class_flips, columns=['test_sample','naive_mean', 'start', 'end','true_class','flipped_class'])"
      ],
      "metadata": {
        "id": "y5-46l54mcQP"
      },
      "execution_count": 261,
      "outputs": []
    },
    {
      "cell_type": "code",
      "source": [
        "df_class.head()"
      ],
      "metadata": {
        "colab": {
          "base_uri": "https://localhost:8080/",
          "height": 206
        },
        "id": "Ihu4_TtUm4vK",
        "outputId": "5def6702-3903-42b7-95f6-a1194c556a92"
      },
      "execution_count": 262,
      "outputs": [
        {
          "output_type": "execute_result",
          "data": {
            "text/plain": [
              "   test_sample    naive_mean  start  end  true_class  flipped_class\n",
              "0            0 -2.800000e-10    120  135           1              2\n",
              "1            3 -1.020000e-09    120  135           1              2\n",
              "2            3 -1.020000e-09    135  150           1              2\n",
              "3            4  1.348667e-09     15   30           1              2\n",
              "4            4  1.348667e-09     60   75           1              2"
            ],
            "text/html": [
              "\n",
              "  <div id=\"df-d5543564-59f3-4b75-919b-15861b9f8f88\">\n",
              "    <div class=\"colab-df-container\">\n",
              "      <div>\n",
              "<style scoped>\n",
              "    .dataframe tbody tr th:only-of-type {\n",
              "        vertical-align: middle;\n",
              "    }\n",
              "\n",
              "    .dataframe tbody tr th {\n",
              "        vertical-align: top;\n",
              "    }\n",
              "\n",
              "    .dataframe thead th {\n",
              "        text-align: right;\n",
              "    }\n",
              "</style>\n",
              "<table border=\"1\" class=\"dataframe\">\n",
              "  <thead>\n",
              "    <tr style=\"text-align: right;\">\n",
              "      <th></th>\n",
              "      <th>test_sample</th>\n",
              "      <th>naive_mean</th>\n",
              "      <th>start</th>\n",
              "      <th>end</th>\n",
              "      <th>true_class</th>\n",
              "      <th>flipped_class</th>\n",
              "    </tr>\n",
              "  </thead>\n",
              "  <tbody>\n",
              "    <tr>\n",
              "      <th>0</th>\n",
              "      <td>0</td>\n",
              "      <td>-2.800000e-10</td>\n",
              "      <td>120</td>\n",
              "      <td>135</td>\n",
              "      <td>1</td>\n",
              "      <td>2</td>\n",
              "    </tr>\n",
              "    <tr>\n",
              "      <th>1</th>\n",
              "      <td>3</td>\n",
              "      <td>-1.020000e-09</td>\n",
              "      <td>120</td>\n",
              "      <td>135</td>\n",
              "      <td>1</td>\n",
              "      <td>2</td>\n",
              "    </tr>\n",
              "    <tr>\n",
              "      <th>2</th>\n",
              "      <td>3</td>\n",
              "      <td>-1.020000e-09</td>\n",
              "      <td>135</td>\n",
              "      <td>150</td>\n",
              "      <td>1</td>\n",
              "      <td>2</td>\n",
              "    </tr>\n",
              "    <tr>\n",
              "      <th>3</th>\n",
              "      <td>4</td>\n",
              "      <td>1.348667e-09</td>\n",
              "      <td>15</td>\n",
              "      <td>30</td>\n",
              "      <td>1</td>\n",
              "      <td>2</td>\n",
              "    </tr>\n",
              "    <tr>\n",
              "      <th>4</th>\n",
              "      <td>4</td>\n",
              "      <td>1.348667e-09</td>\n",
              "      <td>60</td>\n",
              "      <td>75</td>\n",
              "      <td>1</td>\n",
              "      <td>2</td>\n",
              "    </tr>\n",
              "  </tbody>\n",
              "</table>\n",
              "</div>\n",
              "      <button class=\"colab-df-convert\" onclick=\"convertToInteractive('df-d5543564-59f3-4b75-919b-15861b9f8f88')\"\n",
              "              title=\"Convert this dataframe to an interactive table.\"\n",
              "              style=\"display:none;\">\n",
              "        \n",
              "  <svg xmlns=\"http://www.w3.org/2000/svg\" height=\"24px\"viewBox=\"0 0 24 24\"\n",
              "       width=\"24px\">\n",
              "    <path d=\"M0 0h24v24H0V0z\" fill=\"none\"/>\n",
              "    <path d=\"M18.56 5.44l.94 2.06.94-2.06 2.06-.94-2.06-.94-.94-2.06-.94 2.06-2.06.94zm-11 1L8.5 8.5l.94-2.06 2.06-.94-2.06-.94L8.5 2.5l-.94 2.06-2.06.94zm10 10l.94 2.06.94-2.06 2.06-.94-2.06-.94-.94-2.06-.94 2.06-2.06.94z\"/><path d=\"M17.41 7.96l-1.37-1.37c-.4-.4-.92-.59-1.43-.59-.52 0-1.04.2-1.43.59L10.3 9.45l-7.72 7.72c-.78.78-.78 2.05 0 2.83L4 21.41c.39.39.9.59 1.41.59.51 0 1.02-.2 1.41-.59l7.78-7.78 2.81-2.81c.8-.78.8-2.07 0-2.86zM5.41 20L4 18.59l7.72-7.72 1.47 1.35L5.41 20z\"/>\n",
              "  </svg>\n",
              "      </button>\n",
              "      \n",
              "  <style>\n",
              "    .colab-df-container {\n",
              "      display:flex;\n",
              "      flex-wrap:wrap;\n",
              "      gap: 12px;\n",
              "    }\n",
              "\n",
              "    .colab-df-convert {\n",
              "      background-color: #E8F0FE;\n",
              "      border: none;\n",
              "      border-radius: 50%;\n",
              "      cursor: pointer;\n",
              "      display: none;\n",
              "      fill: #1967D2;\n",
              "      height: 32px;\n",
              "      padding: 0 0 0 0;\n",
              "      width: 32px;\n",
              "    }\n",
              "\n",
              "    .colab-df-convert:hover {\n",
              "      background-color: #E2EBFA;\n",
              "      box-shadow: 0px 1px 2px rgba(60, 64, 67, 0.3), 0px 1px 3px 1px rgba(60, 64, 67, 0.15);\n",
              "      fill: #174EA6;\n",
              "    }\n",
              "\n",
              "    [theme=dark] .colab-df-convert {\n",
              "      background-color: #3B4455;\n",
              "      fill: #D2E3FC;\n",
              "    }\n",
              "\n",
              "    [theme=dark] .colab-df-convert:hover {\n",
              "      background-color: #434B5C;\n",
              "      box-shadow: 0px 1px 3px 1px rgba(0, 0, 0, 0.15);\n",
              "      filter: drop-shadow(0px 1px 2px rgba(0, 0, 0, 0.3));\n",
              "      fill: #FFFFFF;\n",
              "    }\n",
              "  </style>\n",
              "\n",
              "      <script>\n",
              "        const buttonEl =\n",
              "          document.querySelector('#df-d5543564-59f3-4b75-919b-15861b9f8f88 button.colab-df-convert');\n",
              "        buttonEl.style.display =\n",
              "          google.colab.kernel.accessAllowed ? 'block' : 'none';\n",
              "\n",
              "        async function convertToInteractive(key) {\n",
              "          const element = document.querySelector('#df-d5543564-59f3-4b75-919b-15861b9f8f88');\n",
              "          const dataTable =\n",
              "            await google.colab.kernel.invokeFunction('convertToInteractive',\n",
              "                                                     [key], {});\n",
              "          if (!dataTable) return;\n",
              "\n",
              "          const docLinkHtml = 'Like what you see? Visit the ' +\n",
              "            '<a target=\"_blank\" href=https://colab.research.google.com/notebooks/data_table.ipynb>data table notebook</a>'\n",
              "            + ' to learn more about interactive tables.';\n",
              "          element.innerHTML = '';\n",
              "          dataTable['output_type'] = 'display_data';\n",
              "          await google.colab.output.renderOutput(dataTable, element);\n",
              "          const docLink = document.createElement('div');\n",
              "          docLink.innerHTML = docLinkHtml;\n",
              "          element.appendChild(docLink);\n",
              "        }\n",
              "      </script>\n",
              "    </div>\n",
              "  </div>\n",
              "  "
            ]
          },
          "metadata": {},
          "execution_count": 262
        }
      ]
    },
    {
      "cell_type": "code",
      "source": [
        "df_flip12 = df_class[(df_class['true_class']==1)&(df_class['flipped_class']==2)].copy().reset_index(drop=True)\n",
        "df_flip21 = df_class[(df_class['true_class']==2)&(df_class['flipped_class']==1)].copy().reset_index(drop=True)"
      ],
      "metadata": {
        "id": "9B_MLzA3m7cV"
      },
      "execution_count": 263,
      "outputs": []
    },
    {
      "cell_type": "code",
      "source": [
        "df_flip12['start'].value_counts()[\n",
        "    df_flip12['start'].value_counts()>df_flip12['start'].value_counts().median()\n",
        "    ]"
      ],
      "metadata": {
        "colab": {
          "base_uri": "https://localhost:8080/"
        },
        "id": "OvxfkUn1rEUS",
        "outputId": "640b9e25-afb8-48e7-d2eb-52f76811cd76"
      },
      "execution_count": 264,
      "outputs": [
        {
          "output_type": "execute_result",
          "data": {
            "text/plain": [
              "120    59\n",
              "15     39\n",
              "60     34\n",
              "30     32\n",
              "105    31\n",
              "Name: start, dtype: int64"
            ]
          },
          "metadata": {},
          "execution_count": 264
        }
      ]
    },
    {
      "cell_type": "code",
      "source": [
        "mean_class_1 = np.mean(X_test[(y_test==1),:], axis=0)"
      ],
      "metadata": {
        "id": "phLhAjYaxMAv"
      },
      "execution_count": 265,
      "outputs": []
    },
    {
      "cell_type": "code",
      "source": [
        "flip12_instances = df_flip12['test_sample'].unique()\n",
        "flip21_instances = df_flip21['test_sample'].unique()\n",
        "\n",
        "print(len(flip12_instances))"
      ],
      "metadata": {
        "colab": {
          "base_uri": "https://localhost:8080/"
        },
        "id": "fYvysPyexseG",
        "outputId": "496fdc58-29e2-472f-8912-fd0911daf0a4"
      },
      "execution_count": 266,
      "outputs": [
        {
          "output_type": "stream",
          "name": "stdout",
          "text": [
            "70\n"
          ]
        }
      ]
    },
    {
      "cell_type": "code",
      "source": [
        "flip12_instances[15]"
      ],
      "metadata": {
        "colab": {
          "base_uri": "https://localhost:8080/"
        },
        "id": "9VcHESGayh26",
        "outputId": "3f0c96f6-ea08-45b5-d2be-43a27911eb81"
      },
      "execution_count": 267,
      "outputs": [
        {
          "output_type": "execute_result",
          "data": {
            "text/plain": [
              "29"
            ]
          },
          "metadata": {},
          "execution_count": 267
        }
      ]
    },
    {
      "cell_type": "code",
      "source": [
        "temp_instance_id = flip12_instances[15]\n",
        "df_temp = df_flip12[(df_flip12['test_sample']==temp_instance_id)].reset_index(drop=True)\n",
        "temp_index = df_temp[['start', 'end']].values\n",
        "print(f\"Shape of df {df_temp.shape}\")\n",
        "\n",
        "series = X_test[temp_instance_id]\n",
        "perturb_series = np.array([-999.0]*len(series))\n",
        "for idx in temp_index:\n",
        "  perturb_series[idx[0]:idx[1]] = series[idx[0]:idx[1]]\n",
        "\n",
        "perturb_index = np.arange(len(perturb_series))\n",
        "\n",
        "perturb_vals = perturb_series[(perturb_series!=-999.0)]\n",
        "perturb_index = perturb_index[(perturb_series!=-999.0)]\n",
        "\n",
        "plt.plot(series, label='UCR Gunshot Class')\n",
        "plt.scatter(perturb_index,perturb_vals, color='red', label='Perturbation', alpha=0.6)\n",
        "plt.legend(loc='upper right')\n",
        "plt.title(f'UCR Gunshot Data Sensitivity for sample {temp_instance_id}')\n",
        "plt.show()"
      ],
      "metadata": {
        "colab": {
          "base_uri": "https://localhost:8080/",
          "height": 299
        },
        "id": "rGE-a1Z8y5Te",
        "outputId": "e8a87d57-c88e-465a-a96b-eeccb48a8748"
      },
      "execution_count": 276,
      "outputs": [
        {
          "output_type": "stream",
          "name": "stdout",
          "text": [
            "Shape of df (9, 6)\n"
          ]
        },
        {
          "output_type": "display_data",
          "data": {
            "text/plain": [
              "<Figure size 432x288 with 1 Axes>"
            ],
            "image/png": "[encoded data removed]"
          },
          "metadata": {
            "needs_background": "light"
          }
        }
      ]
    },
    {
      "cell_type": "code",
      "source": [
        ""
      ],
      "metadata": {
        "colab": {
          "base_uri": "https://localhost:8080/",
          "height": 281
        },
        "id": "l6Id8Pw202Wm",
        "outputId": "4be87e47-1680-41f1-8326-fd82b678bd2c"
      },
      "execution_count": 274,
      "outputs": [
        {
          "output_type": "display_data",
          "data": {
            "text/plain": [
              "<Figure size 432x288 with 1 Axes>"
            ],
            "image/png": "[encoded data removed]"
          },
          "metadata": {
            "needs_background": "light"
          }
        }
      ]
    },
    {
      "cell_type": "code",
      "source": [
        "# len(class_flips)"
      ],
      "metadata": {
        "colab": {
          "base_uri": "https://localhost:8080/"
        },
        "id": "gxPWrstUllkz",
        "outputId": "b4e284f6-0cf2-4af5-daf5-7a05fe63276c"
      },
      "execution_count": 127,
      "outputs": [
        {
          "output_type": "execute_result",
          "data": {
            "text/plain": [
              "245"
            ]
          },
          "metadata": {},
          "execution_count": 127
        }
      ]
    },
    {
      "cell_type": "code",
      "source": [
        "X_test.shape"
      ],
      "metadata": {
        "colab": {
          "base_uri": "https://localhost:8080/"
        },
        "id": "KXcdMTLbloOy",
        "outputId": "54300688-1a90-49af-b1da-107a505b8296"
      },
      "execution_count": 128,
      "outputs": [
        {
          "output_type": "execute_result",
          "data": {
            "text/plain": [
              "(150, 150)"
            ]
          },
          "metadata": {},
          "execution_count": 128
        }
      ]
    },
    {
      "cell_type": "code",
      "source": [
        "instance_num, mu,  window_start, window_end, cls_true, cls_false = class_flips[0]"
      ],
      "metadata": {
        "id": "s8dVNbbDkRzy"
      },
      "execution_count": 124,
      "outputs": []
    },
    {
      "cell_type": "code",
      "source": [
        "temps_x = X_test[instance_num, :].copy()\n",
        "temps_x_perturbed = temps_x.copy()"
      ],
      "metadata": {
        "id": "1k2lG6D7OwM-"
      },
      "execution_count": 130,
      "outputs": []
    },
    {
      "cell_type": "code",
      "source": [
        "temps_x_perturbed[window_start:window_end] = mu"
      ],
      "metadata": {
        "id": "WWuEKsDGREFv"
      },
      "execution_count": 131,
      "outputs": []
    },
    {
      "cell_type": "code",
      "source": [
        "fig, ax = plt.subplots(2,1,sharex=True)\n",
        "ax[0].plot(temps_x)\n",
        "ax[1].plot(temps_x_perturbed)"
      ],
      "metadata": {
        "colab": {
          "base_uri": "https://localhost:8080/",
          "height": 283
        },
        "id": "xKFfFiJLl9Nz",
        "outputId": "260f8beb-8c80-43e7-ae1c-fd6b0f9a394d"
      },
      "execution_count": 134,
      "outputs": [
        {
          "output_type": "execute_result",
          "data": {
            "text/plain": [
              "[<matplotlib.lines.Line2D at 0x7f52788d91d0>]"
            ]
          },
          "metadata": {},
          "execution_count": 134
        },
        {
          "output_type": "display_data",
          "data": {
            "text/plain": [
              "<Figure size 432x288 with 2 Axes>"
            ],
            "image/png": "[encoded data removed]"
          },
          "metadata": {
            "needs_background": "light"
          }
        }
      ]
    },
    {
      "cell_type": "code",
      "source": [
        "class_flips"
      ],
      "metadata": {
        "colab": {
          "base_uri": "https://localhost:8080/"
        },
        "id": "4smGDhOjmNMG",
        "outputId": "aa148691-a597-49b9-fd22-7c2e25813ee5"
      },
      "execution_count": 135,
      "outputs": [
        {
          "output_type": "execute_result",
          "data": {
            "text/plain": [
              "[(0, -2.800000142855197e-10, 120, 135, 1.0, 2),\n",
              " (3, -1.0200000133409048e-09, 120, 135, 1.0, 2),\n",
              " (3, -1.0200000133409048e-09, 135, 150, 1.0, 2),\n",
              " (4, 1.3486666820365182e-09, 15, 30, 1.0, 2),\n",
              " (4, 1.3486666820365182e-09, 60, 75, 1.0, 2),\n",
              " (4, 1.3486666820365182e-09, 105, 120, 1.0, 2),\n",
              " (4, 1.3486666820365182e-09, 120, 135, 1.0, 2),\n",
              " (6, 8.999999797273024e-10, 0, 15, 1.0, 2),\n",
              " (6, 8.999999797273024e-10, 15, 30, 1.0, 2),\n",
              " (6, 8.999999797273024e-10, 30, 45, 1.0, 2),\n",
              " (6, 8.999999797273024e-10, 45, 60, 1.0, 2),\n",
              " (6, 8.999999797273024e-10, 60, 75, 1.0, 2),\n",
              " (6, 8.999999797273024e-10, 75, 90, 1.0, 2),\n",
              " (6, 8.999999797273024e-10, 90, 105, 1.0, 2),\n",
              " (9, -4.5333333531516475e-10, 30, 45, 1.0, 2),\n",
              " (9, -4.5333333531516475e-10, 60, 75, 1.0, 2),\n",
              " (9, -4.5333333531516475e-10, 105, 120, 1.0, 2),\n",
              " (9, -4.5333333531516475e-10, 120, 135, 1.0, 2),\n",
              " (10, -1.1120000446377768e-09, 0, 15, 1.0, 2),\n",
              " (10, -1.1120000446377768e-09, 15, 30, 1.0, 2),\n",
              " (10, -1.1120000446377768e-09, 30, 45, 1.0, 2),\n",
              " (10, -1.1120000446377768e-09, 45, 60, 1.0, 2),\n",
              " (10, -1.1120000446377768e-09, 60, 75, 1.0, 2),\n",
              " (10, -1.1120000446377768e-09, 75, 90, 1.0, 2),\n",
              " (10, -1.1120000446377768e-09, 120, 135, 1.0, 2),\n",
              " (11, -2.6933333430179116e-09, 15, 30, 1.0, 2),\n",
              " (11, -2.6933333430179116e-09, 30, 45, 1.0, 2),\n",
              " (11, -2.6933333430179116e-09, 60, 75, 1.0, 2),\n",
              " (13, 6.533333266981837e-10, 0, 15, 1.0, 2),\n",
              " (13, 6.533333266981837e-10, 15, 30, 1.0, 2),\n",
              " (13, 6.533333266981837e-10, 30, 45, 1.0, 2),\n",
              " (14, 1.2959999962092183e-09, 120, 135, 1.0, 2),\n",
              " (15, -9.466666384128074e-10, 105, 120, 1.0, 2),\n",
              " (15, -9.466666384128074e-10, 120, 135, 1.0, 2),\n",
              " (16, 1.6799999968952762e-09, 105, 120, 1.0, 2),\n",
              " (16, 1.6799999968952762e-09, 120, 135, 1.0, 2),\n",
              " (22, -2.8000001132492497e-10, 90, 105, 2.0, 1),\n",
              " (22, -2.8000001132492497e-10, 135, 150, 2.0, 1),\n",
              " (23, -1.4933333562320665e-09, 0, 15, 1.0, 2),\n",
              " (23, -1.4933333562320665e-09, 15, 30, 1.0, 2),\n",
              " (23, -1.4933333562320665e-09, 30, 45, 1.0, 2),\n",
              " (23, -1.4933333562320665e-09, 60, 75, 1.0, 2),\n",
              " (23, -1.4933333562320665e-09, 105, 120, 1.0, 2),\n",
              " (23, -1.4933333562320665e-09, 120, 135, 1.0, 2),\n",
              " (24, 7.666666590466776e-10, 120, 135, 1.0, 2),\n",
              " (26, 2.8466666653533442e-09, 120, 135, 1.0, 2),\n",
              " (27, 1.309333343968433e-09, 0, 15, 1.0, 2),\n",
              " (27, 1.309333343968433e-09, 15, 30, 1.0, 2),\n",
              " (27, 1.309333343968433e-09, 30, 45, 1.0, 2),\n",
              " (27, 1.309333343968433e-09, 120, 135, 1.0, 2),\n",
              " (29, 1.8866666392132933e-09, 0, 15, 1.0, 2),\n",
              " (29, 1.8866666392132933e-09, 15, 30, 1.0, 2),\n",
              " (29, 1.8866666392132933e-09, 30, 45, 1.0, 2),\n",
              " (29, 1.8866666392132933e-09, 60, 75, 1.0, 2),\n",
              " (29, 1.8866666392132933e-09, 75, 90, 1.0, 2),\n",
              " (29, 1.8866666392132933e-09, 90, 105, 1.0, 2),\n",
              " (29, 1.8866666392132933e-09, 105, 120, 1.0, 2),\n",
              " (29, 1.8866666392132933e-09, 120, 135, 1.0, 2),\n",
              " (29, 1.8866666392132933e-09, 135, 150, 1.0, 2),\n",
              " (30, -6.933333226063117e-10, 60, 75, 1.0, 2),\n",
              " (30, -6.933333226063117e-10, 105, 120, 1.0, 2),\n",
              " (30, -6.933333226063117e-10, 120, 135, 1.0, 2),\n",
              " (33, 7.200000062823619e-10, 0, 15, 1.0, 2),\n",
              " (33, 7.200000062823619e-10, 15, 30, 1.0, 2),\n",
              " (33, 7.200000062823619e-10, 30, 45, 1.0, 2),\n",
              " (33, 7.200000062823619e-10, 60, 75, 1.0, 2),\n",
              " (33, 7.200000062823619e-10, 105, 120, 1.0, 2),\n",
              " (33, 7.200000062823619e-10, 120, 135, 1.0, 2),\n",
              " (34, -6.400000248281875e-10, 15, 30, 1.0, 2),\n",
              " (34, -6.400000248281875e-10, 30, 45, 1.0, 2),\n",
              " (34, -6.400000248281875e-10, 60, 75, 1.0, 2),\n",
              " (34, -6.400000248281875e-10, 105, 120, 1.0, 2),\n",
              " (34, -6.400000248281875e-10, 120, 135, 1.0, 2),\n",
              " (35, -4.5333331755159634e-10, 30, 45, 1.0, 2),\n",
              " (35, -4.5333331755159634e-10, 60, 75, 1.0, 2),\n",
              " (35, -4.5333331755159634e-10, 120, 135, 1.0, 2),\n",
              " (36, -1.6933333490953829e-09, 15, 30, 1.0, 2),\n",
              " (36, -1.6933333490953829e-09, 60, 75, 1.0, 2),\n",
              " (36, -1.6933333490953829e-09, 105, 120, 1.0, 2),\n",
              " (36, -1.6933333490953829e-09, 120, 135, 1.0, 2),\n",
              " (37, 2.7333335594903474e-10, 30, 45, 1.0, 2),\n",
              " (37, 2.7333335594903474e-10, 120, 135, 1.0, 2),\n",
              " (38, -1.073333185293753e-10, 120, 135, 1.0, 2),\n",
              " (40, -3.599999942593968e-10, 15, 30, 1.0, 2),\n",
              " (40, -3.599999942593968e-10, 60, 75, 1.0, 2),\n",
              " (40, -3.599999942593968e-10, 105, 120, 1.0, 2),\n",
              " (40, -3.599999942593968e-10, 120, 135, 1.0, 2),\n",
              " (42, 7.866666133319693e-10, 120, 135, 1.0, 2),\n",
              " (43, 1.86666670269157e-10, 120, 135, 1.0, 2),\n",
              " (45, 2.8666665485843625e-10, 0, 15, 1.0, 2),\n",
              " (45, 2.8666665485843625e-10, 15, 30, 1.0, 2),\n",
              " (45, 2.8666665485843625e-10, 30, 45, 1.0, 2),\n",
              " (45, 2.8666665485843625e-10, 45, 60, 1.0, 2),\n",
              " (45, 2.8666665485843625e-10, 60, 75, 1.0, 2),\n",
              " (45, 2.8666665485843625e-10, 75, 90, 1.0, 2),\n",
              " (48, 1.1940000040529716e-09, 15, 30, 1.0, 2),\n",
              " (48, 1.1940000040529716e-09, 30, 45, 1.0, 2),\n",
              " (48, 1.1940000040529716e-09, 60, 75, 1.0, 2),\n",
              " (48, 1.1940000040529716e-09, 105, 120, 1.0, 2),\n",
              " (48, 1.1940000040529716e-09, 120, 135, 1.0, 2),\n",
              " (52, -2.0000019418375814e-11, 15, 30, 1.0, 2),\n",
              " (52, -2.0000019418375814e-11, 60, 75, 1.0, 2),\n",
              " (52, -2.0000019418375814e-11, 75, 90, 1.0, 2),\n",
              " (52, -2.0000019418375814e-11, 105, 120, 1.0, 2),\n",
              " (52, -2.0000019418375814e-11, 120, 135, 1.0, 2),\n",
              " (54, 2.3333332895466204e-10, 60, 75, 1.0, 2),\n",
              " (54, 2.3333332895466204e-10, 105, 120, 1.0, 2),\n",
              " (55, -2.0000010536591616e-11, 0, 15, 1.0, 2),\n",
              " (55, -2.0000010536591616e-11, 15, 30, 1.0, 2),\n",
              " (55, -2.0000010536591616e-11, 30, 45, 1.0, 2),\n",
              " (55, -2.0000010536591616e-11, 45, 60, 1.0, 2),\n",
              " (55, -2.0000010536591616e-11, 120, 135, 1.0, 2),\n",
              " (58, 6.333333339251605e-10, 105, 120, 1.0, 2),\n",
              " (58, 6.333333339251605e-10, 120, 135, 1.0, 2),\n",
              " (59, 8.119999961309077e-10, 135, 150, 2.0, 1),\n",
              " (60, -1.4033333413839463e-09, 120, 135, 1.0, 2),\n",
              " (62, 3.6866666519586034e-09, 15, 30, 1.0, 2),\n",
              " (62, 3.6866666519586034e-09, 120, 135, 1.0, 2),\n",
              " (63, -1.0999999844329976e-09, 15, 30, 1.0, 2),\n",
              " (63, -1.0999999844329976e-09, 60, 75, 1.0, 2),\n",
              " (63, -1.0999999844329976e-09, 90, 105, 1.0, 2),\n",
              " (63, -1.0999999844329976e-09, 105, 120, 1.0, 2),\n",
              " (63, -1.0999999844329976e-09, 120, 135, 1.0, 2),\n",
              " (65, 1.119999997930184e-09, 120, 135, 1.0, 2),\n",
              " (66, -2.406666673356502e-09, 120, 135, 1.0, 2),\n",
              " (72, -1.299999989138693e-09, 105, 120, 2.0, 1),\n",
              " (79, -2.195333343261533e-09, 15, 30, 1.0, 2),\n",
              " (79, -2.195333343261533e-09, 30, 45, 1.0, 2),\n",
              " (79, -2.195333343261533e-09, 60, 75, 1.0, 2),\n",
              " (79, -2.195333343261533e-09, 105, 120, 1.0, 2),\n",
              " (79, -2.195333343261533e-09, 120, 135, 1.0, 2),\n",
              " (80, 4.1533334401340955e-10, 0, 15, 1.0, 2),\n",
              " (80, 4.1533334401340955e-10, 15, 30, 1.0, 2),\n",
              " (80, 4.1533334401340955e-10, 30, 45, 1.0, 2),\n",
              " (80, 4.1533334401340955e-10, 45, 60, 1.0, 2),\n",
              " (80, 4.1533334401340955e-10, 60, 75, 1.0, 2),\n",
              " (80, 4.1533334401340955e-10, 75, 90, 1.0, 2),\n",
              " (81, 4.0666662926014395e-10, 15, 30, 1.0, 2),\n",
              " (81, 4.0666662926014395e-10, 30, 45, 1.0, 2),\n",
              " (81, 4.0666662926014395e-10, 75, 90, 1.0, 2),\n",
              " (86, -5.266666791570173e-10, 120, 135, 1.0, 2),\n",
              " (87, 6.333333265236737e-10, 75, 90, 2.0, 1),\n",
              " (87, 6.333333265236737e-10, 90, 105, 2.0, 1),\n",
              " (88, -1.6266666739520967e-09, 15, 30, 1.0, 2),\n",
              " (88, -1.6266666739520967e-09, 30, 45, 1.0, 2),\n",
              " (88, -1.6266666739520967e-09, 60, 75, 1.0, 2),\n",
              " (88, -1.6266666739520967e-09, 105, 120, 1.0, 2),\n",
              " (88, -1.6266666739520967e-09, 120, 135, 1.0, 2),\n",
              " (89, 8.773333319093506e-10, 15, 30, 1.0, 2),\n",
              " (89, 8.773333319093506e-10, 60, 75, 1.0, 2),\n",
              " (89, 8.773333319093506e-10, 105, 120, 1.0, 2),\n",
              " (89, 8.773333319093506e-10, 120, 135, 1.0, 2),\n",
              " (89, 8.773333319093506e-10, 135, 150, 1.0, 2),\n",
              " (90, 1.8233333332062785e-09, 15, 30, 1.0, 2),\n",
              " (90, 1.8233333332062785e-09, 30, 45, 1.0, 2),\n",
              " (90, 1.8233333332062785e-09, 60, 75, 1.0, 2),\n",
              " (90, 1.8233333332062785e-09, 105, 120, 1.0, 2),\n",
              " (90, 1.8233333332062785e-09, 120, 135, 1.0, 2),\n",
              " (92, 1.2333333199165964e-09, 15, 30, 1.0, 2),\n",
              " (92, 1.2333333199165964e-09, 30, 45, 1.0, 2),\n",
              " (92, 1.2333333199165964e-09, 60, 75, 1.0, 2),\n",
              " (92, 1.2333333199165964e-09, 105, 120, 1.0, 2),\n",
              " (92, 1.2333333199165964e-09, 120, 135, 1.0, 2),\n",
              " (94, -2.5066668740691964e-10, 30, 45, 2.0, 1),\n",
              " (94, -2.5066668740691964e-10, 45, 60, 2.0, 1),\n",
              " (94, -2.5066668740691964e-10, 135, 150, 2.0, 1),\n",
              " (95, -6.066666724535707e-10, 15, 30, 1.0, 2),\n",
              " (95, -6.066666724535707e-10, 30, 45, 1.0, 2),\n",
              " (95, -6.066666724535707e-10, 60, 75, 1.0, 2),\n",
              " (95, -6.066666724535707e-10, 105, 120, 1.0, 2),\n",
              " (95, -6.066666724535707e-10, 120, 135, 1.0, 2),\n",
              " (98, 7.333333244356292e-10, 120, 135, 1.0, 2),\n",
              " (99, -8.286666641765805e-10, 105, 120, 1.0, 2),\n",
              " (99, -8.286666641765805e-10, 120, 135, 1.0, 2),\n",
              " (101, -1.1333333678938591e-10, 15, 30, 1.0, 2),\n",
              " (101, -1.1333333678938591e-10, 30, 45, 1.0, 2),\n",
              " (101, -1.1333333678938591e-10, 45, 60, 1.0, 2),\n",
              " (101, -1.1333333678938591e-10, 120, 135, 1.0, 2),\n",
              " (105, 1.6399999876644718e-09, 120, 135, 1.0, 2),\n",
              " (106, 1.466666647390961e-10, 15, 30, 1.0, 2),\n",
              " (106, 1.466666647390961e-10, 60, 75, 1.0, 2),\n",
              " (106, 1.466666647390961e-10, 105, 120, 1.0, 2),\n",
              " (106, 1.466666647390961e-10, 120, 135, 1.0, 2),\n",
              " (108, -3.066666624344331e-10, 15, 30, 1.0, 2),\n",
              " (108, -3.066666624344331e-10, 30, 45, 1.0, 2),\n",
              " (108, -3.066666624344331e-10, 60, 75, 1.0, 2),\n",
              " (108, -3.066666624344331e-10, 105, 120, 1.0, 2),\n",
              " (108, -3.066666624344331e-10, 120, 135, 1.0, 2),\n",
              " (110, 1.633333338209771e-09, 45, 60, 2.0, 1),\n",
              " (114, 2.960594732333751e-18, 105, 120, 1.0, 2),\n",
              " (114, 2.960594732333751e-18, 120, 135, 1.0, 2),\n",
              " (115, 5.326666515278097e-10, 120, 135, 1.0, 2),\n",
              " (117, 6.466666728025909e-10, 120, 135, 1.0, 2),\n",
              " (118, 5.399999913890951e-10, 15, 30, 1.0, 2),\n",
              " (118, 5.399999913890951e-10, 30, 45, 1.0, 2),\n",
              " (118, 5.399999913890951e-10, 105, 120, 1.0, 2),\n",
              " (118, 5.399999913890951e-10, 120, 135, 1.0, 2),\n",
              " (120, 5.133333284372081e-10, 120, 135, 1.0, 2),\n",
              " (124, -2.973333342500458e-09, 15, 30, 1.0, 2),\n",
              " (124, -2.973333342500458e-09, 30, 45, 1.0, 2),\n",
              " (124, -2.973333342500458e-09, 45, 60, 1.0, 2),\n",
              " (124, -2.973333342500458e-09, 60, 75, 1.0, 2),\n",
              " (124, -2.973333342500458e-09, 75, 90, 1.0, 2),\n",
              " (124, -2.973333342500458e-09, 90, 105, 1.0, 2),\n",
              " (126, 6.266666593054045e-10, 15, 30, 1.0, 2),\n",
              " (126, 6.266666593054045e-10, 30, 45, 1.0, 2),\n",
              " (126, 6.266666593054045e-10, 120, 135, 1.0, 2),\n",
              " (127, 2.3266663854807728e-10, 15, 30, 1.0, 2),\n",
              " (127, 2.3266663854807728e-10, 30, 45, 1.0, 2),\n",
              " (127, 2.3266663854807728e-10, 60, 75, 1.0, 2),\n",
              " (127, 2.3266663854807728e-10, 75, 90, 1.0, 2),\n",
              " (127, 2.3266663854807728e-10, 120, 135, 1.0, 2),\n",
              " (132, 9.399999800763225e-10, 120, 135, 1.0, 2),\n",
              " (133, -2.2466666630786373e-09, 15, 30, 1.0, 2),\n",
              " (133, -2.2466666630786373e-09, 30, 45, 1.0, 2),\n",
              " (133, -2.2466666630786373e-09, 105, 120, 1.0, 2),\n",
              " (134, 1.353333350569604e-09, 0, 15, 1.0, 2),\n",
              " (134, 1.353333350569604e-09, 15, 30, 1.0, 2),\n",
              " (134, 1.353333350569604e-09, 30, 45, 1.0, 2),\n",
              " (134, 1.353333350569604e-09, 45, 60, 1.0, 2),\n",
              " (134, 1.353333350569604e-09, 60, 75, 1.0, 2),\n",
              " (134, 1.353333350569604e-09, 75, 90, 1.0, 2),\n",
              " (136, -2.5333333297794523e-09, 15, 30, 1.0, 2),\n",
              " (136, -2.5333333297794523e-09, 120, 135, 1.0, 2),\n",
              " (138, -2.194666670618517e-09, 120, 135, 1.0, 2),\n",
              " (139, 1.1400000055061809e-09, 105, 120, 1.0, 2),\n",
              " (139, 1.1400000055061809e-09, 120, 135, 1.0, 2),\n",
              " (142, -8.400000058491249e-10, 60, 75, 1.0, 2),\n",
              " (142, -8.400000058491249e-10, 105, 120, 1.0, 2),\n",
              " (142, -8.400000058491249e-10, 120, 135, 1.0, 2),\n",
              " (144, -1.1133333484754833e-09, 15, 30, 1.0, 2),\n",
              " (144, -1.1133333484754833e-09, 60, 75, 1.0, 2),\n",
              " (144, -1.1133333484754833e-09, 105, 120, 1.0, 2),\n",
              " (144, -1.1133333484754833e-09, 120, 135, 1.0, 2),\n",
              " (146, -7.266666557370627e-10, 15, 30, 1.0, 2),\n",
              " (146, -7.266666557370627e-10, 30, 45, 1.0, 2),\n",
              " (146, -7.266666557370627e-10, 60, 75, 1.0, 2),\n",
              " (146, -7.266666557370627e-10, 75, 90, 1.0, 2),\n",
              " (146, -7.266666557370627e-10, 120, 135, 1.0, 2),\n",
              " (149, 1.5533333434329204e-09, 0, 15, 1.0, 2),\n",
              " (149, 1.5533333434329204e-09, 15, 30, 1.0, 2),\n",
              " (149, 1.5533333434329204e-09, 30, 45, 1.0, 2),\n",
              " (149, 1.5533333434329204e-09, 45, 60, 1.0, 2),\n",
              " (149, 1.5533333434329204e-09, 60, 75, 1.0, 2),\n",
              " (149, 1.5533333434329204e-09, 75, 90, 1.0, 2)]"
            ]
          },
          "metadata": {},
          "execution_count": 135
        }
      ]
    },
    {
      "cell_type": "code",
      "source": [
        ""
      ],
      "metadata": {
        "id": "OCBPMUvXmVhR"
      },
      "execution_count": null,
      "outputs": []
    }
  ]
}